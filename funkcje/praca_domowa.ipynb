{
 "cells": [
  {
   "cell_type": "code",
   "execution_count": 6,
   "metadata": {},
   "outputs": [],
   "source": [
    "#### zadanie 1"
   ]
  },
  {
   "cell_type": "code",
   "execution_count": 27,
   "metadata": {},
   "outputs": [],
   "source": [
    "def max_z_dwoch (a,b):\n",
    "    if a>b:\n",
    "        return a\n",
    "    return b\n",
    "\n",
    "\n",
    "def max_z_trzech (x, y, z):\n",
    "    return max_z_dwoch(x, max_z_dwoch(y,z))\n"
   ]
  },
  {
   "cell_type": "code",
   "execution_count": 28,
   "metadata": {},
   "outputs": [],
   "source": [
    "assert 0 == max_z_trzech (0,0,0)\n",
    "assert 3 == max_z_trzech(1,2,3)\n",
    "assert 10 == max_z_trzech (10, 2, -3)"
   ]
  },
  {
   "cell_type": "code",
   "execution_count": 6,
   "metadata": {},
   "outputs": [],
   "source": [
    "#### zadanie 2 "
   ]
  },
  {
   "cell_type": "code",
   "execution_count": null,
   "metadata": {},
   "outputs": [],
   "source": [
    "def sumator(arg):\n",
    "    total = 0\n",
    "    if isinstance(arg, dict):\n",
    "        arg = arg.values()\n",
    "    for x in arg:\n",
    "        try:\n",
    "            x = int(x)\n",
    "            total += x\n",
    "        except ValueError:\n",
    "            pass\n",
    "    return total"
   ]
  },
  {
   "cell_type": "code",
   "execution_count": 14,
   "metadata": {},
   "outputs": [
    {
     "data": {
      "text/plain": [
       "dict_values([10, 20, 30, 40])"
      ]
     },
     "execution_count": 14,
     "metadata": {},
     "output_type": "execute_result"
    }
   ],
   "source": [
    "my_dict ={'a':10, 1:20, 'c':30, 'd':40}\n",
    "my_dict.values()"
   ]
  },
  {
   "cell_type": "code",
   "execution_count": 26,
   "metadata": {},
   "outputs": [
    {
     "ename": "NameError",
     "evalue": "name 'sumator' is not defined",
     "traceback": [
      "\u001b[1;31m---------------------------------------------------------------------------\u001b[0m",
      "\u001b[1;31mNameError\u001b[0m                                 Traceback (most recent call last)",
      "\u001b[1;32m<ipython-input-26-23dbeef0e3b8>\u001b[0m in \u001b[0;36m<module>\u001b[1;34m\u001b[0m\n\u001b[1;32m----> 1\u001b[1;33m \u001b[1;32massert\u001b[0m \u001b[0msumator\u001b[0m\u001b[1;33m(\u001b[0m\u001b[1;33m[\u001b[0m\u001b[1;36m1\u001b[0m\u001b[1;33m,\u001b[0m\u001b[1;36m2\u001b[0m\u001b[1;33m,\u001b[0m\u001b[1;36m3\u001b[0m\u001b[1;33m]\u001b[0m\u001b[1;33m)\u001b[0m\u001b[1;33m==\u001b[0m\u001b[1;36m6\u001b[0m\u001b[1;33m\u001b[0m\u001b[0m\n\u001b[0m\u001b[0;32m      2\u001b[0m \u001b[1;32massert\u001b[0m \u001b[0msumator\u001b[0m\u001b[1;33m(\u001b[0m\u001b[1;33m{\u001b[0m\u001b[1;36m10\u001b[0m\u001b[1;33m,\u001b[0m\u001b[1;36m20\u001b[0m\u001b[1;33m,\u001b[0m\u001b[1;36m30\u001b[0m\u001b[1;33m}\u001b[0m\u001b[1;33m)\u001b[0m\u001b[1;33m==\u001b[0m\u001b[1;36m60\u001b[0m\u001b[1;33m\u001b[0m\u001b[0m\n\u001b[0;32m      3\u001b[0m \u001b[1;32massert\u001b[0m \u001b[0msumator\u001b[0m\u001b[1;33m(\u001b[0m\u001b[1;33m[\u001b[0m\u001b[1;36m1\u001b[0m\u001b[1;33m,\u001b[0m\u001b[1;34m'a'\u001b[0m\u001b[1;33m,\u001b[0m\u001b[1;36m2\u001b[0m\u001b[1;33m,\u001b[0m\u001b[1;36m3\u001b[0m\u001b[1;33m]\u001b[0m\u001b[1;33m)\u001b[0m\u001b[1;33m==\u001b[0m\u001b[1;36m6\u001b[0m\u001b[1;33m\u001b[0m\u001b[0m\n\u001b[0;32m      4\u001b[0m \u001b[1;32massert\u001b[0m \u001b[0msumator\u001b[0m\u001b[1;33m(\u001b[0m\u001b[1;33m[\u001b[0m\u001b[1;36m1\u001b[0m\u001b[1;33m,\u001b[0m\u001b[1;34m'a'\u001b[0m\u001b[1;33m,\u001b[0m\u001b[1;34m'4'\u001b[0m\u001b[1;33m,\u001b[0m\u001b[1;36m2\u001b[0m\u001b[1;33m,\u001b[0m\u001b[1;36m3\u001b[0m\u001b[1;33m]\u001b[0m\u001b[1;33m)\u001b[0m\u001b[1;33m==\u001b[0m\u001b[1;36m10\u001b[0m\u001b[1;33m\u001b[0m\u001b[0m\n\u001b[0;32m      5\u001b[0m \u001b[1;32massert\u001b[0m \u001b[0msumator\u001b[0m\u001b[1;33m(\u001b[0m\u001b[1;33m{\u001b[0m\u001b[1;34m'a'\u001b[0m\u001b[1;33m:\u001b[0m\u001b[1;36m10\u001b[0m\u001b[1;33m,\u001b[0m\u001b[1;36m1\u001b[0m\u001b[1;33m:\u001b[0m\u001b[1;36m20\u001b[0m\u001b[1;33m,\u001b[0m\u001b[1;34m'c'\u001b[0m\u001b[1;33m:\u001b[0m\u001b[1;36m30\u001b[0m\u001b[1;33m,\u001b[0m\u001b[1;34m'd'\u001b[0m\u001b[1;33m:\u001b[0m\u001b[1;36m40\u001b[0m\u001b[1;33m}\u001b[0m\u001b[1;33m)\u001b[0m\u001b[1;33m==\u001b[0m\u001b[1;36m100\u001b[0m\u001b[1;33m\u001b[0m\u001b[0m\n",
      "\u001b[1;31mNameError\u001b[0m: name 'sumator' is not defined"
     ],
     "output_type": "error"
    }
   ],
   "source": [
    "assert sumator([1,2,3])==6\n",
    "assert sumator({10,20,30})==60\n",
    "assert sumator([1,'a',2,3])==6\n",
    "assert sumator([1,'a','4',2,3])==10\n",
    "assert sumator({'a':10,1:20,'c':30,'d':40})==100"
   ]
  },
  {
   "cell_type": "code",
   "execution_count": 6,
   "metadata": {},
   "outputs": [],
   "source": [
    "#### zadanie 3"
   ]
  },
  {
   "cell_type": "code",
   "execution_count": 29,
   "metadata": {},
   "outputs": [],
   "source": [
    "def czy_palindrom(tekst):\n",
    "    tekst = \"\".join(tekst.lower().split())\n",
    "    return tekst == tekst[::-1]\n"
   ]
  },
  {
   "cell_type": "code",
   "execution_count": 30,
   "metadata": {},
   "outputs": [],
   "source": [
    "assert czy_palindrom(\"Kobyła ma mały bok\")==True\n",
    "assert czy_palindrom(\"Zakopane na pokaz\")==True\n",
    "assert czy_palindrom(\"Ala ma kota\")==False"
   ]
  },
  {
   "cell_type": "code",
   "execution_count": 31,
   "metadata": {},
   "outputs": [],
   "source": [
    "#### zadanie 4 "
   ]
  },
  {
   "cell_type": "code",
   "execution_count": null,
   "metadata": {},
   "outputs": [
    {
     "name": "stdout",
     "output_type": "stream",
     "text": [
      "                                            1                                         1     1                                     1     2     1                                 1     3     3     1                             1     4     6     4     1                         1     5    10    10     5     1                     1     6    15    20    15     6     1                 1     7    21    35    35    21     7     1             1     8    28    56    70    56    28     8     1         1     9    36    84   126   126    84    36     9     1 \n"
     ]
    }
   ],
   "source": [
    "def trojkat_pascala(n):\n",
    "    a = [[1]]\n",
    "    i = 1\n",
    "    \n",
    "    for i in range(1, n):\n",
    "        a.append([1])\n",
    "        for j in range(1, i):\n",
    "            a[i].append(a[i-1][j-1]+a[i-1][j])\n",
    "        a[i].append(1)\n",
    "\n",
    "    return a     \n",
    "\n",
    "def print_pascal(a):\n",
    "    n = len(a)\n",
    "    for i, row in enumerate(a):\n",
    "        print(\"   \"*(n-i), end=\"\")\n",
    "        for col in row:\n",
    "            print(f'{col:5}', end=\" \")\n",
    "        print()\n",
    "\n",
    "# def trojkat_pascala2(n):\n",
    "#     \"działa tylko do n = 7\"\n",
    "#     return(11**i for i in range(n))\n",
    "\n",
    "a = trojkat_pascala(10)\n",
    "print_pascal(a)"
   ]
  },
  {
   "cell_type": "code",
   "execution_count": 49,
   "metadata": {},
   "outputs": [],
   "source": [
    "assert [[1]]==trojkat_pascala(1)\n",
    "assert [[1], [1,1]]==trojkat_pascala(2)\n",
    "assert [[1], [1,1], [1,2,1], [1,3,3,1]]==trojkat_pascala(4)\n"
   ]
  },
  {
   "cell_type": "code",
   "execution_count": 50,
   "metadata": {},
   "outputs": [],
   "source": [
    "#### zadanie 5"
   ]
  },
  {
   "cell_type": "code",
   "execution_count": 73,
   "metadata": {},
   "outputs": [
    {
     "name": "stdout",
     "output_type": "stream",
     "text": [
      "True\n",
      "False\n",
      "True\n"
     ]
    }
   ],
   "source": [
    "import string\n",
    "\n",
    "string.ascii_lowercase\n",
    "\n",
    "def czy_pangram(napis, alfabet=string.ascii_lowercase):\n",
    "    napis=\"\".join(napis.lower().split())\n",
    "    return set(napis) == set(alfabet)\n",
    "\n",
    "print (czy_pangram(\"The quick brown fox jumps over the lazy dog\"))\n",
    "print (czy_pangram(\"ala ma kota\"))\n",
    "print (czy_pangram(\"Pchnąć w tę łódź jeża lub ośm skrzyń fig\", alfabet))"
   ]
  },
  {
   "cell_type": "code",
   "execution_count": 62,
   "metadata": {},
   "outputs": [],
   "source": [
    "assert czy_pangram(\"The quick brown fox jumps over the lazy dog\")== True\n",
    "assert czy_pangram(\"ala ma kota\")== False\n",
    "\n",
    "alfabet = \"aąbcćdeęfghijklłmnńoóprsśtuwyzźż\"\n",
    "assert czy_pangram(\"Pchnąć w tę łódź jeża lub ośm skrzyń fig\", alfabet) == True"
   ]
  },
  {
   "cell_type": "code",
   "execution_count": 60,
   "metadata": {},
   "outputs": [],
   "source": [
    "#### zadanie 6"
   ]
  },
  {
   "cell_type": "code",
   "execution_count": 83,
   "metadata": {},
   "outputs": [],
   "source": [
    "def liczba_doskonala(liczba):\n",
    "    \n",
    "    total=0\n",
    "    for a in range(1, liczba):\n",
    "        if liczba%a==0:\n",
    "            total+=a\n",
    "            \n",
    "    return total == liczba"
   ]
  },
  {
   "cell_type": "code",
   "execution_count": 84,
   "metadata": {},
   "outputs": [],
   "source": [
    "assert liczba_doskonala(6) == True\n",
    "assert liczba_doskonala(7) == False\n",
    "assert liczba_doskonala(28) == True\n",
    "assert liczba_doskonala(496) == True\n",
    "\n",
    "assert liczba_doskonala(33550336) == True"
   ]
  },
  {
   "cell_type": "code",
   "execution_count": 85,
   "metadata": {},
   "outputs": [],
   "source": [
    "#### zadanie 7"
   ]
  },
  {
   "cell_type": "code",
   "execution_count": 86,
   "metadata": {},
   "outputs": [],
   "source": [
    "import time\n",
    "def czas_wykonania(dekorowana_funkcja):\n",
    "    \n",
    "    def wrapper(*args, **kwargs):\n",
    "        start = time.time()\n",
    "        dekorowana_funkcja(*args, **kwargs)\n",
    "        stop = time.time()\n",
    "        print (f'Czas wykonywania funkcji {dekorowana_funkcja.__name__} z argumentami {args}, {kwargs} wynosi {stop-start} s')\n",
    "    return wrapper    "
   ]
  },
  {
   "cell_type": "code",
   "execution_count": 87,
   "metadata": {},
   "outputs": [],
   "source": [
    "liczba_doskonala= czas_wykonania(liczba_doskonala)"
   ]
  },
  {
   "cell_type": "code",
   "execution_count": 88,
   "metadata": {},
   "outputs": [
    {
     "name": "stdout",
     "output_type": "stream",
     "text": [
      "Czas wykonywania funkcji liczba_doskonala z argumentami (1000000,), {} wynosi 0.2500002384185791 s\n"
     ]
    }
   ],
   "source": [
    "liczba_doskonala(1000000)"
   ]
  },
  {
   "cell_type": "code",
   "execution_count": null,
   "metadata": {},
   "outputs": [],
   "source": []
  },
  {
   "cell_type": "code",
   "execution_count": null,
   "metadata": {},
   "outputs": [],
   "source": []
  },
  {
   "cell_type": "code",
   "execution_count": null,
   "metadata": {},
   "outputs": [],
   "source": []
  },
  {
   "cell_type": "code",
   "execution_count": null,
   "metadata": {},
   "outputs": [],
   "source": []
  },
  {
   "cell_type": "code",
   "execution_count": null,
   "metadata": {},
   "outputs": [],
   "source": []
  }
 ],
 "metadata": {
  "kernelspec": {
   "display_name": "Python 3",
   "language": "python",
   "name": "python3"
  },
  "language_info": {
   "codemirror_mode": {
    "name": "ipython",
    "version": 3
   },
   "file_extension": ".py",
   "mimetype": "text/x-python",
   "name": "python",
   "nbconvert_exporter": "python",
   "pygments_lexer": "ipython3",
   "version": "3.7.0"
  }
 },
 "nbformat": 4,
 "nbformat_minor": 2
}
